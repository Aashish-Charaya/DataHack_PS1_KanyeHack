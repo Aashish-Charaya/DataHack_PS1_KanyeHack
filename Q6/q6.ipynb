{
 "cells": [
  {
   "cell_type": "code",
   "execution_count": 1,
   "metadata": {},
   "outputs": [],
   "source": [
    "import pandas as pd"
   ]
  },
  {
   "cell_type": "code",
   "execution_count": 2,
   "metadata": {},
   "outputs": [
    {
     "data": {
      "text/html": [
       "<div>\n",
       "<style scoped>\n",
       "    .dataframe tbody tr th:only-of-type {\n",
       "        vertical-align: middle;\n",
       "    }\n",
       "\n",
       "    .dataframe tbody tr th {\n",
       "        vertical-align: top;\n",
       "    }\n",
       "\n",
       "    .dataframe thead th {\n",
       "        text-align: right;\n",
       "    }\n",
       "</style>\n",
       "<table border=\"1\" class=\"dataframe\">\n",
       "  <thead>\n",
       "    <tr style=\"text-align: right;\">\n",
       "      <th></th>\n",
       "      <th>S No.</th>\n",
       "      <th>Year</th>\n",
       "      <th>State</th>\n",
       "      <th>Industry</th>\n",
       "      <th>Count</th>\n",
       "    </tr>\n",
       "  </thead>\n",
       "  <tbody>\n",
       "    <tr>\n",
       "      <th>0</th>\n",
       "      <td>1</td>\n",
       "      <td>2023</td>\n",
       "      <td>Andaman and Nicobar Islands</td>\n",
       "      <td>Automotive</td>\n",
       "      <td>1</td>\n",
       "    </tr>\n",
       "    <tr>\n",
       "      <th>1</th>\n",
       "      <td>2</td>\n",
       "      <td>2023</td>\n",
       "      <td>Andaman and Nicobar Islands</td>\n",
       "      <td>Construction</td>\n",
       "      <td>2</td>\n",
       "    </tr>\n",
       "    <tr>\n",
       "      <th>2</th>\n",
       "      <td>3</td>\n",
       "      <td>2023</td>\n",
       "      <td>Andhra Pradesh</td>\n",
       "      <td>Advertising</td>\n",
       "      <td>1</td>\n",
       "    </tr>\n",
       "    <tr>\n",
       "      <th>3</th>\n",
       "      <td>4</td>\n",
       "      <td>2023</td>\n",
       "      <td>Andhra Pradesh</td>\n",
       "      <td>Aeronautics Aerospace &amp; Defence</td>\n",
       "      <td>1</td>\n",
       "    </tr>\n",
       "    <tr>\n",
       "      <th>4</th>\n",
       "      <td>5</td>\n",
       "      <td>2023</td>\n",
       "      <td>Andhra Pradesh</td>\n",
       "      <td>Agriculture</td>\n",
       "      <td>2</td>\n",
       "    </tr>\n",
       "  </tbody>\n",
       "</table>\n",
       "</div>"
      ],
      "text/plain": [
       "   S No.  Year                        State                         Industry  \\\n",
       "0      1  2023  Andaman and Nicobar Islands                       Automotive   \n",
       "1      2  2023  Andaman and Nicobar Islands                     Construction   \n",
       "2      3  2023               Andhra Pradesh                      Advertising   \n",
       "3      4  2023               Andhra Pradesh  Aeronautics Aerospace & Defence   \n",
       "4      5  2023               Andhra Pradesh                      Agriculture   \n",
       "\n",
       "   Count  \n",
       "0      1  \n",
       "1      2  \n",
       "2      1  \n",
       "3      1  \n",
       "4      2  "
      ]
     },
     "execution_count": 2,
     "metadata": {},
     "output_type": "execute_result"
    }
   ],
   "source": [
    "df = pd.read_csv('Indian_Startup_Data.csv')\n",
    "df.head()"
   ]
  },
  {
   "cell_type": "code",
   "execution_count": 4,
   "metadata": {},
   "outputs": [
    {
     "data": {
      "text/plain": [
       "2022    1218\n",
       "2021    1150\n",
       "2020    1056\n",
       "2019     914\n",
       "2018     866\n",
       "2023     729\n",
       "2017     725\n",
       "2016      24\n",
       "Name: Year, dtype: int64"
      ]
     },
     "execution_count": 4,
     "metadata": {},
     "output_type": "execute_result"
    }
   ],
   "source": [
    "df[\"Year\"].value_counts()"
   ]
  },
  {
   "cell_type": "code",
   "execution_count": 5,
   "metadata": {},
   "outputs": [
    {
     "data": {
      "text/plain": [
       "Maharashtra                                 360\n",
       "Karnataka                                   357\n",
       "Delhi                                       349\n",
       "Uttar Pradesh                               346\n",
       "Gujarat                                     337\n",
       "Telangana                                   332\n",
       "Haryana                                     327\n",
       "Tamil Nadu                                  327\n",
       "West Bengal                                 309\n",
       "Kerala                                      306\n",
       "Rajasthan                                   304\n",
       "Madhya Pradesh                              290\n",
       "Odisha                                      268\n",
       "Andhra Pradesh                              256\n",
       "Bihar                                       255\n",
       "Chhattisgarh                                231\n",
       "Jharkhand                                   215\n",
       "Punjab                                      209\n",
       "Assam                                       203\n",
       "Uttarakhand                                 202\n",
       "Goa                                         154\n",
       "Jammu and Kashmir                           152\n",
       "Chandigarh                                  147\n",
       "Himachal Pradesh                            119\n",
       "Puducherry                                   66\n",
       "Manipur                                      52\n",
       "Tripura                                      50\n",
       "Dadra and Nagar Haveli and Daman and Diu     30\n",
       "Andaman and Nicobar Islands                  30\n",
       "Meghalaya                                    29\n",
       "Nagaland                                     28\n",
       "Arunachal Pradesh                            14\n",
       "Mizoram                                      11\n",
       "Sikkim                                        9\n",
       "Ladakh                                        5\n",
       "NOT SPECIFIED                                 2\n",
       "Lakshadweep                                   1\n",
       "Name: State, dtype: int64"
      ]
     },
     "execution_count": 5,
     "metadata": {},
     "output_type": "execute_result"
    }
   ],
   "source": [
    "df[\"State\"].value_counts()"
   ]
  },
  {
   "cell_type": "code",
   "execution_count": 9,
   "metadata": {},
   "outputs": [
    {
     "data": {
      "text/plain": [
       "S No.       0\n",
       "Year        0\n",
       "State       0\n",
       "Industry    0\n",
       "Count       0\n",
       "dtype: int64"
      ]
     },
     "execution_count": 9,
     "metadata": {},
     "output_type": "execute_result"
    }
   ],
   "source": [
    "df.isnull().sum()"
   ]
  },
  {
   "cell_type": "code",
   "execution_count": 10,
   "metadata": {},
   "outputs": [],
   "source": [
    "df_2018 = df[df[\"Year\"] == 2018]\n",
    "df_2019 = df[df[\"Year\"] == 2019]\n",
    "df_2020 = df[df[\"Year\"] == 2020]\n",
    "df_2021 = df[df[\"Year\"] == 2021]\n",
    "df_2022 = df[df[\"Year\"] == 2022]"
   ]
  },
  {
   "cell_type": "markdown",
   "metadata": {},
   "source": [
    "For 2018\n"
   ]
  },
  {
   "cell_type": "code",
   "execution_count": 11,
   "metadata": {},
   "outputs": [
    {
     "data": {
      "text/plain": [
       "Maharashtra                                 48\n",
       "Delhi                                       48\n",
       "Uttar Pradesh                               47\n",
       "Karnataka                                   47\n",
       "Tamil Nadu                                  45\n",
       "Haryana                                     44\n",
       "Telangana                                   44\n",
       "Gujarat                                     44\n",
       "West Bengal                                 42\n",
       "Rajasthan                                   39\n",
       "Madhya Pradesh                              39\n",
       "Kerala                                      38\n",
       "Bihar                                       36\n",
       "Andhra Pradesh                              35\n",
       "Chhattisgarh                                34\n",
       "Odisha                                      33\n",
       "Jharkhand                                   29\n",
       "Uttarakhand                                 27\n",
       "Assam                                       24\n",
       "Punjab                                      23\n",
       "Goa                                         20\n",
       "Jammu and Kashmir                           18\n",
       "Chandigarh                                  15\n",
       "Puducherry                                  13\n",
       "Himachal Pradesh                            12\n",
       "Manipur                                      7\n",
       "Tripura                                      4\n",
       "Arunachal Pradesh                            2\n",
       "Nagaland                                     2\n",
       "Mizoram                                      2\n",
       "Meghalaya                                    2\n",
       "Andaman and Nicobar Islands                  2\n",
       "Dadra and Nagar Haveli and Daman and Diu     1\n",
       "Name: State, dtype: int64"
      ]
     },
     "execution_count": 11,
     "metadata": {},
     "output_type": "execute_result"
    }
   ],
   "source": [
    "df_2018[\"State\"].value_counts()"
   ]
  },
  {
   "cell_type": "code",
   "execution_count": 12,
   "metadata": {},
   "outputs": [],
   "source": [
    "import geopandas as gpd\n",
    "import matplotlib.pyplot as plt"
   ]
  },
  {
   "cell_type": "code",
   "execution_count": 13,
   "metadata": {},
   "outputs": [
    {
     "name": "stderr",
     "output_type": "stream",
     "text": [
      "C:\\Users\\91937\\AppData\\Local\\Temp\\ipykernel_21444\\4030882299.py:1: FutureWarning: The geopandas.dataset module is deprecated and will be removed in GeoPandas 1.0. You can get the original 'naturalearth_lowres' data from https://www.naturalearthdata.com/downloads/110m-cultural-vectors/.\n",
      "  world = gpd.read_file(gpd.datasets.get_path('naturalearth_lowres'))\n",
      "C:\\Users\\91937\\AppData\\Local\\Temp\\ipykernel_21444\\4030882299.py:3: FutureWarning: The geopandas.dataset module is deprecated and will be removed in GeoPandas 1.0. You can get the original 'naturalearth_lowres' data from https://www.naturalearthdata.com/downloads/110m-cultural-vectors/.\n",
      "  india_states = gpd.read_file(gpd.datasets.get_path('naturalearth_lowres'))\n"
     ]
    }
   ],
   "source": [
    "\n",
    "\n",
    "world = gpd.read_file(gpd.datasets.get_path('naturalearth_lowres'))\n",
    "india = world[world.name == \"India\"]\n",
    "india_states = gpd.read_file(gpd.datasets.get_path('naturalearth_lowres'))\n",
    "india_states = india_states[india_states['iso_a3'] == 'IND']\n",
    "india_states.to_file('india_states.geojson', driver='GeoJSON')\n"
   ]
  },
  {
   "cell_type": "code",
   "execution_count": 20,
   "metadata": {},
   "outputs": [
    {
     "data": {
      "text/html": [
       "<div>\n",
       "<style scoped>\n",
       "    .dataframe tbody tr th:only-of-type {\n",
       "        vertical-align: middle;\n",
       "    }\n",
       "\n",
       "    .dataframe tbody tr th {\n",
       "        vertical-align: top;\n",
       "    }\n",
       "\n",
       "    .dataframe thead th {\n",
       "        text-align: right;\n",
       "    }\n",
       "</style>\n",
       "<table border=\"1\" class=\"dataframe\">\n",
       "  <thead>\n",
       "    <tr style=\"text-align: right;\">\n",
       "      <th></th>\n",
       "      <th>pop_est</th>\n",
       "      <th>continent</th>\n",
       "      <th>name</th>\n",
       "      <th>iso_a3</th>\n",
       "      <th>gdp_md_est</th>\n",
       "      <th>geometry</th>\n",
       "      <th>S No.</th>\n",
       "      <th>Year</th>\n",
       "      <th>State</th>\n",
       "      <th>Industry</th>\n",
       "      <th>Count</th>\n",
       "    </tr>\n",
       "  </thead>\n",
       "  <tbody>\n",
       "    <tr>\n",
       "      <th>0</th>\n",
       "      <td>1.366418e+09</td>\n",
       "      <td>Asia</td>\n",
       "      <td>India</td>\n",
       "      <td>IND</td>\n",
       "      <td>2868929</td>\n",
       "      <td>POLYGON ((97.32711 28.26158, 97.40256 27.88254...</td>\n",
       "      <td>NaN</td>\n",
       "      <td>NaN</td>\n",
       "      <td>NaN</td>\n",
       "      <td>NaN</td>\n",
       "      <td>NaN</td>\n",
       "    </tr>\n",
       "  </tbody>\n",
       "</table>\n",
       "</div>"
      ],
      "text/plain": [
       "        pop_est continent   name iso_a3  gdp_md_est  \\\n",
       "0  1.366418e+09      Asia  India    IND     2868929   \n",
       "\n",
       "                                            geometry  S No.  Year State  \\\n",
       "0  POLYGON ((97.32711 28.26158, 97.40256 27.88254...    NaN   NaN   NaN   \n",
       "\n",
       "  Industry  Count  \n",
       "0      NaN    NaN  "
      ]
     },
     "execution_count": 20,
     "metadata": {},
     "output_type": "execute_result"
    }
   ],
   "source": [
    "merged_data = india_states.merge(df, how='left', left_on='name', right_on='State')\n",
    "merged_data.head()\n"
   ]
  },
  {
   "cell_type": "code",
   "execution_count": null,
   "metadata": {},
   "outputs": [],
   "source": [
    "fig, ax = plt.subplots(1, 1, figsize=(10, 10))\n",
    "\n",
    "# Set aspect ratio manually\n",
    "ax.set_aspect('equal')\n",
    "\n",
    "# Plot the map\n",
    "merged_data.plot(column='Count', cmap='OrRd', linewidth=0.8, ax=ax, edgecolor='0.8', legend=True)\n",
    "\n",
    "plt.show()\n"
   ]
  },
  {
   "cell_type": "code",
   "execution_count": null,
   "metadata": {},
   "outputs": [],
   "source": []
  }
 ],
 "metadata": {
  "kernelspec": {
   "display_name": "Python 3",
   "language": "python",
   "name": "python3"
  },
  "language_info": {
   "codemirror_mode": {
    "name": "ipython",
    "version": 3
   },
   "file_extension": ".py",
   "mimetype": "text/x-python",
   "name": "python",
   "nbconvert_exporter": "python",
   "pygments_lexer": "ipython3",
   "version": "3.11.4"
  }
 },
 "nbformat": 4,
 "nbformat_minor": 2
}
